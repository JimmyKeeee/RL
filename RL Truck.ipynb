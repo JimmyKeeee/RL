{
 "cells": [
  {
   "cell_type": "code",
   "execution_count": 1,
   "id": "5e992442-93f3-4eec-b114-30b34517cccb",
   "metadata": {},
   "outputs": [
    {
     "name": "stdout",
     "output_type": "stream",
     "text": [
      "True\n"
     ]
    }
   ],
   "source": [
    "import torch\n",
    "print(torch.cuda.is_available())\n"
   ]
  },
  {
   "cell_type": "code",
   "execution_count": 3,
   "id": "e83240d5-0ea0-4868-ae5c-5e003ab8498d",
   "metadata": {},
   "outputs": [
    {
     "ename": "ModuleNotFoundError",
     "evalue": "No module named 'gym'",
     "output_type": "error",
     "traceback": [
      "\u001b[1;31m---------------------------------------------------------------------------\u001b[0m",
      "\u001b[1;31mModuleNotFoundError\u001b[0m                       Traceback (most recent call last)",
      "Cell \u001b[1;32mIn[3], line 1\u001b[0m\n\u001b[1;32m----> 1\u001b[0m \u001b[38;5;28;01mimport\u001b[39;00m \u001b[38;5;21;01mgym\u001b[39;00m\n\u001b[0;32m      2\u001b[0m \u001b[38;5;28;01mfrom\u001b[39;00m \u001b[38;5;21;01mgym\u001b[39;00m \u001b[38;5;28;01mimport\u001b[39;00m spaces\n\u001b[0;32m      3\u001b[0m \u001b[38;5;28;01mimport\u001b[39;00m \u001b[38;5;21;01mnumpy\u001b[39;00m \u001b[38;5;28;01mas\u001b[39;00m \u001b[38;5;21;01mnp\u001b[39;00m\n",
      "\u001b[1;31mModuleNotFoundError\u001b[0m: No module named 'gym'"
     ]
    }
   ],
   "source": [
    "import gym\n",
    "from gym import spaces\n",
    "import numpy as np\n",
    "\n",
    "class TruckFleetEnv(gym.Env):\n",
    "    metadata = {'render.modes': ['console']}\n",
    "    \n",
    "    def __init__(self):\n",
    "        super(TruckFleetEnv, self).__init__()\n",
    "\n",
    "        self.num_trucks = 3\n",
    "        self.num_nodes = 7\n",
    "        self.num_material_types = 2  # Including 'empty' as a type\n",
    "        self.storage_capacities = [100, 100]  # Arbitrary capacity for storages A and B\n",
    "        \n",
    "        # Define observation space with MultiDiscrete space\n",
    "        # Each truck has the following observations:\n",
    "        # 1. Current location [0, num_nodes - 1]\n",
    "        # 2. Load status [0, num_material_types - 1]\n",
    "        # 3. Destination [0, num_nodes - 1]\n",
    "        truck_obs_space = [self.num_nodes, self.num_material_types, self.num_nodes]\n",
    "        global_obs_space = self.storage_capacities\n",
    "        total_obs_space = truck_obs_space * self.num_trucks + global_obs_space\n",
    "        self.observation_space = spaces.MultiDiscrete(total_obs_space)\n",
    "\n",
    "        # Define action space\n",
    "        self.action_space = spaces.Tuple((spaces.Discrete(self.num_nodes),\n",
    "                                          spaces.Discrete(3)))  # Move, Load/Unload\n",
    "\n",
    "        # Initial state\n",
    "        self.state = np.zeros(sum(total_obs_space), dtype=int)\n",
    "        self.storage_remaining_capacities = self.storage_capacities.copy()\n",
    "\n",
    "    def step(self, action):\n",
    "        # Update the location of each truck based on the action taken\n",
    "        for i, truck_action in enumerate(action):\n",
    "            if truck_action < self.num_nodes:  # If the action is to move to a node\n",
    "                self.state['location_of_trucks'][i] = truck_action\n",
    "            elif truck_action == self.num_nodes:  # Load or unload actions\n",
    "                # Similar logic to loading/unloading without considering waiting\n",
    "                pass  # Implement loading/unloading logic here\n",
    "\n",
    "        # Calculate reward based on the action taken\n",
    "        reward = 0\n",
    "        # Placeholder logic for reward calculation\n",
    "        \n",
    "        # Check if the environment state is done, placeholder for actual condition\n",
    "        done = False  # Define condition for termination\n",
    "        \n",
    "        info = {}\n",
    "        \n",
    "        return self.state, reward, done, info\n",
    "\n",
    "    def reset(self):\n",
    "        self.state = np.zeros_like(self.state, dtype=int)\n",
    "        return self.state\n",
    "    \n",
    "    def render(self, mode='console'):\n",
    "        if mode != 'console':\n",
    "            raise NotImplementedError()\n",
    "        print(f\"State of the environment: {self.state}\")\n",
    "\n",
    "# Usage example\n",
    "env = TruckFleetEnv()\n",
    "state = env.reset()\n",
    "print(f\"Initial state: {state}\")\n",
    "\n",
    "# Example step (placeholder for real actions)\n",
    "action = (1, 1)  # Example action\n",
    "next_state, reward, done, info = env.step(action)\n",
    "print(f\"Next state: {next_state}\")\n",
    "print(f\"Reward: {reward}\")\n"
   ]
  },
  {
   "cell_type": "code",
   "execution_count": null,
   "id": "d093765b-027e-4876-baf4-7777be91f48f",
   "metadata": {},
   "outputs": [],
   "source": []
  }
 ],
 "metadata": {
  "kernelspec": {
   "display_name": "Python 3 (ipykernel)",
   "language": "python",
   "name": "python3"
  },
  "language_info": {
   "codemirror_mode": {
    "name": "ipython",
    "version": 3
   },
   "file_extension": ".py",
   "mimetype": "text/x-python",
   "name": "python",
   "nbconvert_exporter": "python",
   "pygments_lexer": "ipython3",
   "version": "3.8.18"
  }
 },
 "nbformat": 4,
 "nbformat_minor": 5
}
