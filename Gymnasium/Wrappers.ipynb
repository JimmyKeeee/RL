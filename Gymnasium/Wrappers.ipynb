{
 "cells": [
  {
   "cell_type": "code",
   "execution_count": 4,
   "id": "53ee9aeb-fa9f-4615-9e0b-b6f47fe7b15f",
   "metadata": {},
   "outputs": [
    {
     "data": {
      "text/plain": [
       "Box(-1.0, 1.0, (3,), float32)"
      ]
     },
     "execution_count": 4,
     "metadata": {},
     "output_type": "execute_result"
    }
   ],
   "source": [
    "import gymnasium as gym\n",
    "from gymnasium.wrappers import RescaleAction\n",
    "base_env = gym.make(\"Hopper-v4\")\n",
    "base_env.action_space\n",
    "# Box(-1.0, 1.0, (3,), float32)\n"
   ]
  },
  {
   "cell_type": "code",
   "execution_count": 3,
   "id": "a6cd3448-e968-4aa9-a737-ef4ab2d91b4c",
   "metadata": {},
   "outputs": [
    {
     "data": {
      "text/plain": [
       "Box(0.0, 1.0, (3,), float32)"
      ]
     },
     "execution_count": 3,
     "metadata": {},
     "output_type": "execute_result"
    }
   ],
   "source": [
    "wrapped_env = RescaleAction(base_env, min_action=0, max_action=1)\n",
    "wrapped_env.action_space"
   ]
  },
  {
   "cell_type": "code",
   "execution_count": 5,
   "id": "8f44f9b6-7374-4116-92eb-59025c357baf",
   "metadata": {},
   "outputs": [
    {
     "data": {
      "text/plain": [
       "<RescaleAction<TimeLimit<OrderEnforcing<PassiveEnvChecker<HopperEnv<Hopper-v4>>>>>>"
      ]
     },
     "execution_count": 5,
     "metadata": {},
     "output_type": "execute_result"
    }
   ],
   "source": [
    "wrapped_env"
   ]
  },
  {
   "cell_type": "code",
   "execution_count": 6,
   "id": "84533256-b719-4aed-aca0-a3fcbcbcdeae",
   "metadata": {},
   "outputs": [
    {
     "data": {
      "text/plain": [
       "<TimeLimit<OrderEnforcing<PassiveEnvChecker<HopperEnv<Hopper-v4>>>>>"
      ]
     },
     "execution_count": 6,
     "metadata": {},
     "output_type": "execute_result"
    }
   ],
   "source": [
    "wrapped_env.env"
   ]
  },
  {
   "cell_type": "code",
   "execution_count": 7,
   "id": "d82c455f-20ec-4b31-b9c4-c6445324eb3a",
   "metadata": {},
   "outputs": [],
   "source": [
    "import numpy as np\n",
    "from gym import ActionWrapper, ObservationWrapper, RewardWrapper, Wrapper\n",
    "\n",
    "import gymnasium as gym\n",
    "from gymnasium.spaces import Box, Discrete\n",
    "\n",
    "\n",
    "class RelativePosition(ObservationWrapper):\n",
    "    def __init__(self, env):\n",
    "        super().__init__(env)\n",
    "        self.observation_space = Box(shape=(2,), low=-np.inf, high=np.inf)\n",
    "\n",
    "    def observation(self, obs):\n",
    "        return obs[\"target\"] - obs[\"agent\"]"
   ]
  },
  {
   "cell_type": "code",
   "execution_count": null,
   "id": "9e7dce37-8bfd-45da-a2c3-d916f20fa301",
   "metadata": {},
   "outputs": [],
   "source": []
  }
 ],
 "metadata": {
  "kernelspec": {
   "display_name": "Python 3 (ipykernel)",
   "language": "python",
   "name": "python3"
  },
  "language_info": {
   "codemirror_mode": {
    "name": "ipython",
    "version": 3
   },
   "file_extension": ".py",
   "mimetype": "text/x-python",
   "name": "python",
   "nbconvert_exporter": "python",
   "pygments_lexer": "ipython3",
   "version": "3.11.7"
  }
 },
 "nbformat": 4,
 "nbformat_minor": 5
}
